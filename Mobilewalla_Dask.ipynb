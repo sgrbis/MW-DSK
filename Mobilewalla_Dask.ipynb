{
 "cells": [
  {
   "cell_type": "code",
   "execution_count": 3,
   "metadata": {
    "collapsed": true
   },
   "outputs": [],
   "source": [
    "import dask\n",
    "import dask.dataframe as dd"
   ]
  },
  {
   "cell_type": "code",
   "execution_count": 42,
   "metadata": {
    "collapsed": true
   },
   "outputs": [],
   "source": [
    "import matplotlib.pyplot as plt"
   ]
  },
  {
   "cell_type": "code",
   "execution_count": 4,
   "metadata": {
    "collapsed": true
   },
   "outputs": [],
   "source": [
    "df = dd.read_csv('/home/sagarrr/Desktop/in/combined/*.csv')"
   ]
  },
  {
   "cell_type": "code",
   "execution_count": 5,
   "metadata": {
    "collapsed": true
   },
   "outputs": [],
   "source": [
    "df.columns = ['ifa', 'city','day_part','geohash','user_age','device_name','device_os','device_manufacturer','device_platform','user_gender']"
   ]
  },
  {
   "cell_type": "code",
   "execution_count": 6,
   "metadata": {},
   "outputs": [
    {
     "data": {
      "text/html": [
       "<div>\n",
       "<style scoped>\n",
       "    .dataframe tbody tr th:only-of-type {\n",
       "        vertical-align: middle;\n",
       "    }\n",
       "\n",
       "    .dataframe tbody tr th {\n",
       "        vertical-align: top;\n",
       "    }\n",
       "\n",
       "    .dataframe thead th {\n",
       "        text-align: right;\n",
       "    }\n",
       "</style>\n",
       "<table border=\"1\" class=\"dataframe\">\n",
       "  <thead>\n",
       "    <tr style=\"text-align: right;\">\n",
       "      <th></th>\n",
       "      <th>ifa</th>\n",
       "      <th>city</th>\n",
       "      <th>day_part</th>\n",
       "      <th>geohash</th>\n",
       "      <th>user_age</th>\n",
       "      <th>device_name</th>\n",
       "      <th>device_os</th>\n",
       "      <th>device_manufacturer</th>\n",
       "      <th>device_platform</th>\n",
       "      <th>user_gender</th>\n",
       "    </tr>\n",
       "  </thead>\n",
       "  <tbody>\n",
       "    <tr>\n",
       "      <th>0</th>\n",
       "      <td>a6543545-8d00-41a1-a874-ad0a25fa9696</td>\n",
       "      <td>Guwahati</td>\n",
       "      <td>home</td>\n",
       "      <td>whgu1qv4f</td>\n",
       "      <td>0</td>\n",
       "      <td>Y69</td>\n",
       "      <td>ANDROID 7</td>\n",
       "      <td>Vivo</td>\n",
       "      <td>ANDROID</td>\n",
       "      <td>NaN</td>\n",
       "    </tr>\n",
       "    <tr>\n",
       "      <th>1</th>\n",
       "      <td>a6543545-8d00-41a1-a874-ad0a25fa9696</td>\n",
       "      <td>Guwahati</td>\n",
       "      <td>home</td>\n",
       "      <td>whgu7c0w3</td>\n",
       "      <td>0</td>\n",
       "      <td>Y69</td>\n",
       "      <td>ANDROID 7</td>\n",
       "      <td>Vivo</td>\n",
       "      <td>ANDROID</td>\n",
       "      <td>NaN</td>\n",
       "    </tr>\n",
       "    <tr>\n",
       "      <th>2</th>\n",
       "      <td>a6543545-8d00-41a1-a874-ad0a25fa9696</td>\n",
       "      <td>Guwahati</td>\n",
       "      <td>work</td>\n",
       "      <td>whgu7d5s5</td>\n",
       "      <td>0</td>\n",
       "      <td>Y69</td>\n",
       "      <td>ANDROID 7</td>\n",
       "      <td>Vivo</td>\n",
       "      <td>ANDROID</td>\n",
       "      <td>NaN</td>\n",
       "    </tr>\n",
       "    <tr>\n",
       "      <th>3</th>\n",
       "      <td>a6543545-8d00-41a1-a874-ad0a25fa9696</td>\n",
       "      <td>Guwahati</td>\n",
       "      <td>home</td>\n",
       "      <td>whgu7c0y2</td>\n",
       "      <td>0</td>\n",
       "      <td>Y69</td>\n",
       "      <td>ANDROID 7</td>\n",
       "      <td>Vivo</td>\n",
       "      <td>ANDROID</td>\n",
       "      <td>NaN</td>\n",
       "    </tr>\n",
       "    <tr>\n",
       "      <th>4</th>\n",
       "      <td>a6543545-8d00-41a1-a874-ad0a25fa9696</td>\n",
       "      <td>Jorhat</td>\n",
       "      <td>home</td>\n",
       "      <td>whgu7c0y2</td>\n",
       "      <td>0</td>\n",
       "      <td>Y69</td>\n",
       "      <td>ANDROID 7</td>\n",
       "      <td>Vivo</td>\n",
       "      <td>ANDROID</td>\n",
       "      <td>NaN</td>\n",
       "    </tr>\n",
       "  </tbody>\n",
       "</table>\n",
       "</div>"
      ],
      "text/plain": [
       "                                    ifa      city day_part    geohash  \\\n",
       "0  a6543545-8d00-41a1-a874-ad0a25fa9696  Guwahati     home  whgu1qv4f   \n",
       "1  a6543545-8d00-41a1-a874-ad0a25fa9696  Guwahati     home  whgu7c0w3   \n",
       "2  a6543545-8d00-41a1-a874-ad0a25fa9696  Guwahati     work  whgu7d5s5   \n",
       "3  a6543545-8d00-41a1-a874-ad0a25fa9696  Guwahati     home  whgu7c0y2   \n",
       "4  a6543545-8d00-41a1-a874-ad0a25fa9696    Jorhat     home  whgu7c0y2   \n",
       "\n",
       "   user_age device_name  device_os device_manufacturer device_platform  \\\n",
       "0         0         Y69  ANDROID 7                Vivo         ANDROID   \n",
       "1         0         Y69  ANDROID 7                Vivo         ANDROID   \n",
       "2         0         Y69  ANDROID 7                Vivo         ANDROID   \n",
       "3         0         Y69  ANDROID 7                Vivo         ANDROID   \n",
       "4         0         Y69  ANDROID 7                Vivo         ANDROID   \n",
       "\n",
       "  user_gender  \n",
       "0         NaN  \n",
       "1         NaN  \n",
       "2         NaN  \n",
       "3         NaN  \n",
       "4         NaN  "
      ]
     },
     "execution_count": 6,
     "metadata": {},
     "output_type": "execute_result"
    }
   ],
   "source": [
    "df.head(5)"
   ]
  },
  {
   "cell_type": "code",
   "execution_count": 19,
   "metadata": {},
   "outputs": [],
   "source": [
    "df1 = df.dropna()"
   ]
  },
  {
   "cell_type": "code",
   "execution_count": 22,
   "metadata": {
    "collapsed": true
   },
   "outputs": [],
   "source": [
    "df1 = df1[df1.device_name != \"NIL\"]"
   ]
  },
  {
   "cell_type": "code",
   "execution_count": 23,
   "metadata": {
    "collapsed": true
   },
   "outputs": [],
   "source": [
    "df1 = df1[df1.city != \"NIL\"]"
   ]
  },
  {
   "cell_type": "code",
   "execution_count": 24,
   "metadata": {
    "collapsed": true
   },
   "outputs": [],
   "source": [
    "df1 = df1[df1.device_platform != \"NIL\"]"
   ]
  },
  {
   "cell_type": "code",
   "execution_count": 25,
   "metadata": {
    "collapsed": true
   },
   "outputs": [],
   "source": [
    "df1 = df1[df1.device_os != \"NIL\"]"
   ]
  },
  {
   "cell_type": "code",
   "execution_count": 26,
   "metadata": {},
   "outputs": [
    {
     "data": {
      "text/html": [
       "<div>\n",
       "<style scoped>\n",
       "    .dataframe tbody tr th:only-of-type {\n",
       "        vertical-align: middle;\n",
       "    }\n",
       "\n",
       "    .dataframe tbody tr th {\n",
       "        vertical-align: top;\n",
       "    }\n",
       "\n",
       "    .dataframe thead th {\n",
       "        text-align: right;\n",
       "    }\n",
       "</style>\n",
       "<table border=\"1\" class=\"dataframe\">\n",
       "  <thead>\n",
       "    <tr style=\"text-align: right;\">\n",
       "      <th></th>\n",
       "      <th>ifa</th>\n",
       "      <th>city</th>\n",
       "      <th>day_part</th>\n",
       "      <th>geohash</th>\n",
       "      <th>user_age</th>\n",
       "      <th>device_name</th>\n",
       "      <th>device_os</th>\n",
       "      <th>device_manufacturer</th>\n",
       "      <th>device_platform</th>\n",
       "      <th>user_gender</th>\n",
       "    </tr>\n",
       "  </thead>\n",
       "  <tbody>\n",
       "    <tr>\n",
       "      <th>15</th>\n",
       "      <td>f3011221-68af-4528-be30-c907e4b90a0c</td>\n",
       "      <td>Ahmedabad</td>\n",
       "      <td>work</td>\n",
       "      <td>ts7980rsb</td>\n",
       "      <td>22</td>\n",
       "      <td>Galaxy E7</td>\n",
       "      <td>ANDROID 5</td>\n",
       "      <td>Samsung</td>\n",
       "      <td>ANDROID</td>\n",
       "      <td>M</td>\n",
       "    </tr>\n",
       "    <tr>\n",
       "      <th>16</th>\n",
       "      <td>f3011221-68af-4528-be30-c907e4b90a0c</td>\n",
       "      <td>Pune</td>\n",
       "      <td>home</td>\n",
       "      <td>ts5e70tj1</td>\n",
       "      <td>22</td>\n",
       "      <td>Galaxy E7</td>\n",
       "      <td>ANDROID 5</td>\n",
       "      <td>Samsung</td>\n",
       "      <td>ANDROID</td>\n",
       "      <td>M</td>\n",
       "    </tr>\n",
       "    <tr>\n",
       "      <th>17</th>\n",
       "      <td>f3011221-68af-4528-be30-c907e4b90a0c</td>\n",
       "      <td>Ahmedabad</td>\n",
       "      <td>home</td>\n",
       "      <td>ts5e70sy4</td>\n",
       "      <td>22</td>\n",
       "      <td>Galaxy E7</td>\n",
       "      <td>ANDROID 5</td>\n",
       "      <td>Samsung</td>\n",
       "      <td>ANDROID</td>\n",
       "      <td>M</td>\n",
       "    </tr>\n",
       "    <tr>\n",
       "      <th>113</th>\n",
       "      <td>6ce3f4ed-12b4-4169-b350-a133b15657dd</td>\n",
       "      <td>Hyderabad</td>\n",
       "      <td>work</td>\n",
       "      <td>tg23y1phs</td>\n",
       "      <td>22</td>\n",
       "      <td>Galaxy J7 Max</td>\n",
       "      <td>ANDROID 8</td>\n",
       "      <td>Samsung</td>\n",
       "      <td>ANDROID</td>\n",
       "      <td>M</td>\n",
       "    </tr>\n",
       "    <tr>\n",
       "      <th>114</th>\n",
       "      <td>6ce3f4ed-12b4-4169-b350-a133b15657dd</td>\n",
       "      <td>Visakhapatnam</td>\n",
       "      <td>work</td>\n",
       "      <td>tdrn72pt9</td>\n",
       "      <td>22</td>\n",
       "      <td>Galaxy J7 Max</td>\n",
       "      <td>ANDROID 8</td>\n",
       "      <td>Samsung</td>\n",
       "      <td>ANDROID</td>\n",
       "      <td>M</td>\n",
       "    </tr>\n",
       "  </tbody>\n",
       "</table>\n",
       "</div>"
      ],
      "text/plain": [
       "                                      ifa           city day_part    geohash  \\\n",
       "15   f3011221-68af-4528-be30-c907e4b90a0c      Ahmedabad     work  ts7980rsb   \n",
       "16   f3011221-68af-4528-be30-c907e4b90a0c           Pune     home  ts5e70tj1   \n",
       "17   f3011221-68af-4528-be30-c907e4b90a0c      Ahmedabad     home  ts5e70sy4   \n",
       "113  6ce3f4ed-12b4-4169-b350-a133b15657dd      Hyderabad     work  tg23y1phs   \n",
       "114  6ce3f4ed-12b4-4169-b350-a133b15657dd  Visakhapatnam     work  tdrn72pt9   \n",
       "\n",
       "     user_age    device_name  device_os device_manufacturer device_platform  \\\n",
       "15         22      Galaxy E7  ANDROID 5             Samsung         ANDROID   \n",
       "16         22      Galaxy E7  ANDROID 5             Samsung         ANDROID   \n",
       "17         22      Galaxy E7  ANDROID 5             Samsung         ANDROID   \n",
       "113        22  Galaxy J7 Max  ANDROID 8             Samsung         ANDROID   \n",
       "114        22  Galaxy J7 Max  ANDROID 8             Samsung         ANDROID   \n",
       "\n",
       "    user_gender  \n",
       "15            M  \n",
       "16            M  \n",
       "17            M  \n",
       "113           M  \n",
       "114           M  "
      ]
     },
     "execution_count": 26,
     "metadata": {},
     "output_type": "execute_result"
    }
   ],
   "source": [
    "df1.head(5)"
   ]
  },
  {
   "cell_type": "code",
   "execution_count": 55,
   "metadata": {
    "collapsed": true
   },
   "outputs": [],
   "source": [
    "bDict = {}"
   ]
  },
  {
   "cell_type": "markdown",
   "metadata": {},
   "source": [
    "# input iteration 1"
   ]
  },
  {
   "cell_type": "code",
   "execution_count": 56,
   "metadata": {
    "collapsed": true
   },
   "outputs": [],
   "source": [
    "input_user_age = 22\n",
    "input_device_manufacturer = \"Samsung\""
   ]
  },
  {
   "cell_type": "code",
   "execution_count": 57,
   "metadata": {},
   "outputs": [],
   "source": [
    "combined_input = str(\"Age : \" + str(input_user_age) + \" \" + \"Manufacturer : \" + input_device_manufacturer )"
   ]
  },
  {
   "cell_type": "markdown",
   "metadata": {},
   "source": [
    "# Retreival iteration 1"
   ]
  },
  {
   "cell_type": "code",
   "execution_count": 58,
   "metadata": {
    "collapsed": true
   },
   "outputs": [],
   "source": [
    "a = df1[(df1.user_age == input_user_age) & (df1.device_manufacturer == input_device_manufacturer )]"
   ]
  },
  {
   "cell_type": "code",
   "execution_count": 59,
   "metadata": {
    "collapsed": true
   },
   "outputs": [],
   "source": [
    "cnt = a.ifa.count().compute()"
   ]
  },
  {
   "cell_type": "code",
   "execution_count": 60,
   "metadata": {
    "collapsed": true
   },
   "outputs": [],
   "source": [
    "bDict[combined_input] = cnt"
   ]
  },
  {
   "cell_type": "code",
   "execution_count": 61,
   "metadata": {},
   "outputs": [
    {
     "data": {
      "text/plain": [
       "{'Age : 22 Manufacturer : Samsung': 118920}"
      ]
     },
     "execution_count": 61,
     "metadata": {},
     "output_type": "execute_result"
    }
   ],
   "source": [
    "bDict"
   ]
  },
  {
   "cell_type": "markdown",
   "metadata": {},
   "source": [
    "# input iteration 2 "
   ]
  },
  {
   "cell_type": "code",
   "execution_count": 62,
   "metadata": {
    "collapsed": true
   },
   "outputs": [],
   "source": [
    "input_user_age = 23\n",
    "input_device_manufacturer = \"Xiaomi\""
   ]
  },
  {
   "cell_type": "code",
   "execution_count": 63,
   "metadata": {},
   "outputs": [],
   "source": [
    "combined_input = str(\"Age : \" + str(input_user_age) + \" \" + \"Manufacturer : \" + input_device_manufacturer )"
   ]
  },
  {
   "cell_type": "markdown",
   "metadata": {},
   "source": [
    "# Retreival iteration 2"
   ]
  },
  {
   "cell_type": "code",
   "execution_count": 65,
   "metadata": {
    "collapsed": true
   },
   "outputs": [],
   "source": [
    "a = df1[(df1.user_age == input_user_age) & (df1.device_manufacturer == input_device_manufacturer )]"
   ]
  },
  {
   "cell_type": "code",
   "execution_count": 66,
   "metadata": {
    "collapsed": true
   },
   "outputs": [],
   "source": [
    "cnt = a.ifa.count().compute()"
   ]
  },
  {
   "cell_type": "code",
   "execution_count": 67,
   "metadata": {
    "collapsed": true
   },
   "outputs": [],
   "source": [
    "bDict[combined_input] = cnt"
   ]
  },
  {
   "cell_type": "code",
   "execution_count": 68,
   "metadata": {},
   "outputs": [
    {
     "data": {
      "text/plain": [
       "{'Age : 22 Manufacturer : Samsung': 118920,\n",
       " 'Age : 23 Manufacturer : Xiaomi': 31833}"
      ]
     },
     "execution_count": 68,
     "metadata": {},
     "output_type": "execute_result"
    }
   ],
   "source": [
    "bDict"
   ]
  },
  {
   "cell_type": "markdown",
   "metadata": {},
   "source": [
    "# Visualization"
   ]
  },
  {
   "cell_type": "code",
   "execution_count": 69,
   "metadata": {},
   "outputs": [
    {
     "data": {
      "image/png": "[encoded data removed]",
      "text/plain": [
       "<matplotlib.figure.Figure at 0x7f2f605950b8>"
      ]
     },
     "metadata": {},
     "output_type": "display_data"
    }
   ],
   "source": [
    "plt.bar(range(len(bDict)), bDict.values())\n",
    "plt.xticks(range(len(bDict)), list(bDict.keys()))\n",
    "plt.gcf().set_size_inches((10, 10)) \n",
    "plt.xticks(rotation=70)\n",
    "plt.show()"
   ]
  },
  {
   "cell_type": "code",
   "execution_count": null,
   "metadata": {
    "collapsed": true
   },
   "outputs": [],
   "source": []
  }
 ],
 "metadata": {
  "kernelspec": {
   "display_name": "Python 3",
   "language": "python",
   "name": "python3"
  },
  "language_info": {
   "codemirror_mode": {
    "name": "ipython",
    "version": 3
   },
   "file_extension": ".py",
   "mimetype": "text/x-python",
   "name": "python",
   "nbconvert_exporter": "python",
   "pygments_lexer": "ipython3",
   "version": "3.6.3"
  }
 },
 "nbformat": 4,
 "nbformat_minor": 2
}
